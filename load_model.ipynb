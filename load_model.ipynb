{
 "cells": [
  {
   "cell_type": "code",
   "execution_count": 1,
   "id": "1fdbc7a7",
   "metadata": {},
   "outputs": [],
   "source": [
    "import joblib"
   ]
  },
  {
   "cell_type": "code",
   "execution_count": 2,
   "id": "8f3c0930",
   "metadata": {},
   "outputs": [],
   "source": [
    "my_model = joblib.load(\"marks_model\")"
   ]
  },
  {
   "cell_type": "code",
   "execution_count": 8,
   "id": "a6eb765c",
   "metadata": {},
   "outputs": [
    {
     "name": "stdout",
     "output_type": "stream",
     "text": [
      "Enter Hours: 8\n"
     ]
    }
   ],
   "source": [
    "hrs = int(input(\"Enter Hours: \")) "
   ]
  },
  {
   "cell_type": "code",
   "execution_count": 9,
   "id": "928cac7b",
   "metadata": {},
   "outputs": [],
   "source": [
    "def marks(hrs):\n",
    "    p = my_model.predict([[hrs]])\n",
    "    print(\"Your future marks will be\", p)\n",
    "    return p"
   ]
  },
  {
   "cell_type": "code",
   "execution_count": null,
   "id": "0c0ab8c9",
   "metadata": {},
   "outputs": [],
   "source": [
    "marks()"
   ]
  }
 ],
 "metadata": {
  "kernelspec": {
   "display_name": "Python 3 (ipykernel)",
   "language": "python",
   "name": "python3"
  },
  "language_info": {
   "codemirror_mode": {
    "name": "ipython",
    "version": 3
   },
   "file_extension": ".py",
   "mimetype": "text/x-python",
   "name": "python",
   "nbconvert_exporter": "python",
   "pygments_lexer": "ipython3",
   "version": "3.9.12"
  },
  "toc": {
   "base_numbering": 1,
   "nav_menu": {},
   "number_sections": true,
   "sideBar": true,
   "skip_h1_title": false,
   "title_cell": "Table of Contents",
   "title_sidebar": "Contents",
   "toc_cell": false,
   "toc_position": {},
   "toc_section_display": true,
   "toc_window_display": false
  }
 },
 "nbformat": 4,
 "nbformat_minor": 5
}
